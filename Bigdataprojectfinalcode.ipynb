{
  "nbformat": 4,
  "nbformat_minor": 0,
  "metadata": {
    "colab": {
      "provenance": []
    },
    "kernelspec": {
      "name": "python3",
      "display_name": "Python 3"
    },
    "language_info": {
      "name": "python"
    }
  },
  "cells": [
    {
      "cell_type": "code",
      "execution_count": 188,
      "metadata": {
        "colab": {
          "base_uri": "https://localhost:8080/"
        },
        "id": "DqgeBMzAHMRI",
        "outputId": "d5037667-61f8-4152-a0d8-935f9eeda3f4"
      },
      "outputs": [
        {
          "output_type": "stream",
          "name": "stdout",
          "text": [
            "Requirement already satisfied: pyspark in /usr/local/lib/python3.10/dist-packages (3.5.1)\n",
            "Requirement already satisfied: py4j==0.10.9.7 in /usr/local/lib/python3.10/dist-packages (from pyspark) (0.10.9.7)\n"
          ]
        }
      ],
      "source": [
        "!pip install pyspark"
      ]
    },
    {
      "cell_type": "code",
      "source": [
        "from pyspark.sql import SparkSession\n",
        "import pyspark.sql.functions as F\n",
        "import pyspark.sql.types as T\n",
        "spark = SparkSession.builder.getOrCreate()\n",
        "from pyspark.sql.functions import format_number\n",
        "from pyspark.ml.feature import OneHotEncoder,StringIndexer\n",
        "from pyspark.ml.feature import VectorAssembler\n",
        "from pyspark.ml.classification import LogisticRegression\n",
        "from pyspark.ml.feature import PCA\n",
        "from pyspark.ml.evaluation import BinaryClassificationEvaluator"
      ],
      "metadata": {
        "id": "8uaTn3w-HVbi"
      },
      "execution_count": 189,
      "outputs": []
    },
    {
      "cell_type": "code",
      "source": [
        "df = spark.read.csv(r\"/content/PS_20174392719_1491204439457_log.csv\", inferSchema=True, header=True)"
      ],
      "metadata": {
        "id": "kxeztKobHlH7"
      },
      "execution_count": 190,
      "outputs": []
    },
    {
      "cell_type": "code",
      "source": [
        "df.dtypes"
      ],
      "metadata": {
        "colab": {
          "base_uri": "https://localhost:8080/"
        },
        "id": "UuliK9ndWe5L",
        "outputId": "d18150e5-1e91-4293-cc98-a49d33727aa2"
      },
      "execution_count": 191,
      "outputs": [
        {
          "output_type": "execute_result",
          "data": {
            "text/plain": [
              "[('step', 'int'),\n",
              " ('type', 'string'),\n",
              " ('amount', 'double'),\n",
              " ('nameOrig', 'string'),\n",
              " ('oldbalanceOrg', 'double'),\n",
              " ('newbalanceOrig', 'double'),\n",
              " ('nameDest', 'string'),\n",
              " ('oldbalanceDest', 'double'),\n",
              " ('newbalanceDest', 'double'),\n",
              " ('isFraud', 'int'),\n",
              " ('isFlaggedFraud', 'int')]"
            ]
          },
          "metadata": {},
          "execution_count": 191
        }
      ]
    },
    {
      "cell_type": "code",
      "source": [
        "df.show(5)\n"
      ],
      "metadata": {
        "colab": {
          "base_uri": "https://localhost:8080/"
        },
        "id": "hgj_DTElWjPo",
        "outputId": "3023635f-f8d0-4620-b57d-316b4246235b"
      },
      "execution_count": 192,
      "outputs": [
        {
          "output_type": "stream",
          "name": "stdout",
          "text": [
            "+----+--------+--------+-----------+-------------+--------------+-----------+--------------+--------------+-------+--------------+\n",
            "|step|    type|  amount|   nameOrig|oldbalanceOrg|newbalanceOrig|   nameDest|oldbalanceDest|newbalanceDest|isFraud|isFlaggedFraud|\n",
            "+----+--------+--------+-----------+-------------+--------------+-----------+--------------+--------------+-------+--------------+\n",
            "|   1| PAYMENT| 9839.64|C1231006815|     170136.0|     160296.36|M1979787155|           0.0|           0.0|      0|             0|\n",
            "|   1| PAYMENT| 1864.28|C1666544295|      21249.0|      19384.72|M2044282225|           0.0|           0.0|      0|             0|\n",
            "|   1|TRANSFER|   181.0|C1305486145|        181.0|           0.0| C553264065|           0.0|           0.0|      1|             0|\n",
            "|   1|CASH_OUT|   181.0| C840083671|        181.0|           0.0|  C38997010|       21182.0|           0.0|      1|             0|\n",
            "|   1| PAYMENT|11668.14|C2048537720|      41554.0|      29885.86|M1230701703|           0.0|           0.0|      0|             0|\n",
            "+----+--------+--------+-----------+-------------+--------------+-----------+--------------+--------------+-------+--------------+\n",
            "only showing top 5 rows\n",
            "\n"
          ]
        }
      ]
    },
    {
      "cell_type": "code",
      "source": [
        "# To check which type of payments happens the most\n",
        "df.groupBy(\"type\").agg(F.count(\"type\")).show()"
      ],
      "metadata": {
        "colab": {
          "base_uri": "https://localhost:8080/"
        },
        "id": "wpmbc8K6Wvxt",
        "outputId": "aec7e72d-676a-49ff-a10c-03af7faf1c1c"
      },
      "execution_count": 193,
      "outputs": [
        {
          "output_type": "stream",
          "name": "stdout",
          "text": [
            "+--------+-----------+\n",
            "|    type|count(type)|\n",
            "+--------+-----------+\n",
            "|TRANSFER|     532909|\n",
            "| CASH_IN|    1399284|\n",
            "|CASH_OUT|    2237500|\n",
            "| PAYMENT|    2151495|\n",
            "|   DEBIT|      41432|\n",
            "+--------+-----------+\n",
            "\n"
          ]
        }
      ]
    },
    {
      "cell_type": "code",
      "source": [
        "#count of the transactions which are fraud and not fraud\n",
        "df.groupBy(\"isFraud\").agg(F.count(\"isFraud\")).show()"
      ],
      "metadata": {
        "colab": {
          "base_uri": "https://localhost:8080/"
        },
        "id": "qig5XSbKXEm1",
        "outputId": "f475e40a-1e30-45de-f50a-2481d787e493"
      },
      "execution_count": 194,
      "outputs": [
        {
          "output_type": "stream",
          "name": "stdout",
          "text": [
            "+-------+--------------+\n",
            "|isFraud|count(isFraud)|\n",
            "+-------+--------------+\n",
            "|      1|          8213|\n",
            "|      0|       6354407|\n",
            "+-------+--------------+\n",
            "\n"
          ]
        }
      ]
    },
    {
      "cell_type": "code",
      "source": [
        "# count of the records flagged as fraud\n",
        "df.filter(F.col(\"isFraud\")==\"1\").count()\n"
      ],
      "metadata": {
        "colab": {
          "base_uri": "https://localhost:8080/"
        },
        "id": "qXvprsuaXEa2",
        "outputId": "d54d781e-8795-4428-c6c5-2c1ddaa42bee"
      },
      "execution_count": 195,
      "outputs": [
        {
          "output_type": "execute_result",
          "data": {
            "text/plain": [
              "8213"
            ]
          },
          "metadata": {},
          "execution_count": 195
        }
      ]
    },
    {
      "cell_type": "code",
      "source": [
        "#count of the records which are flagged as not fraud but are originally fraud\n",
        "df.filter((F.col(\"isFlaggedFraud\")==\"0\")&(F.col(\"isFraud\")==\"1\")).count()"
      ],
      "metadata": {
        "colab": {
          "base_uri": "https://localhost:8080/"
        },
        "id": "i9Z_l4hKXEYp",
        "outputId": "58031228-e59e-4880-c36d-00065b151fc3"
      },
      "execution_count": 196,
      "outputs": [
        {
          "output_type": "execute_result",
          "data": {
            "text/plain": [
              "8197"
            ]
          },
          "metadata": {},
          "execution_count": 196
        }
      ]
    },
    {
      "cell_type": "code",
      "source": [
        "#count of the records which are flagged as fraud and also originally fraud\n",
        "df.filter((F.col(\"isFlaggedFraud\")==\"1\")&(F.col(\"isFraud\")==\"1\")).count()\n"
      ],
      "metadata": {
        "colab": {
          "base_uri": "https://localhost:8080/"
        },
        "id": "cFIuWBaoXEWR",
        "outputId": "1185ecb2-1759-4168-85f2-3d8a2570b6ac"
      },
      "execution_count": 197,
      "outputs": [
        {
          "output_type": "execute_result",
          "data": {
            "text/plain": [
              "16"
            ]
          },
          "metadata": {},
          "execution_count": 197
        }
      ]
    },
    {
      "cell_type": "code",
      "source": [
        "#count of the records which are flagged as fraud and they are originally not fraud\n",
        "df.filter((F.col(\"isFlaggedFraud\")==\"1\")&(F.col(\"isFraud\")==\"0\")).count()"
      ],
      "metadata": {
        "colab": {
          "base_uri": "https://localhost:8080/"
        },
        "id": "DuifulKTXETx",
        "outputId": "a482d193-21cc-4bdc-c8e4-36f590efe129"
      },
      "execution_count": 198,
      "outputs": [
        {
          "output_type": "execute_result",
          "data": {
            "text/plain": [
              "0"
            ]
          },
          "metadata": {},
          "execution_count": 198
        }
      ]
    },
    {
      "cell_type": "code",
      "source": [
        "# system showing frauds\n",
        "df.filter(F.col(\"isFlaggedFraud\")==\"1\").groupBy(F.col(\"type\")).count().show()"
      ],
      "metadata": {
        "colab": {
          "base_uri": "https://localhost:8080/"
        },
        "id": "n1tn7FtsXEPw",
        "outputId": "a81838bc-9406-4a89-efa0-ee3a0c2c433a"
      },
      "execution_count": 199,
      "outputs": [
        {
          "output_type": "stream",
          "name": "stdout",
          "text": [
            "+--------+-----+\n",
            "|    type|count|\n",
            "+--------+-----+\n",
            "|TRANSFER|   16|\n",
            "+--------+-----+\n",
            "\n"
          ]
        }
      ]
    },
    {
      "cell_type": "code",
      "source": [
        "# actual frauds\n",
        "df.filter(F.col(\"isFraud\")==\"1\").groupBy(F.col(\"type\")).count().show()"
      ],
      "metadata": {
        "colab": {
          "base_uri": "https://localhost:8080/"
        },
        "id": "dFdajcb2XENe",
        "outputId": "da987163-9dc4-4b56-e0d8-8f6fb5c09746"
      },
      "execution_count": 200,
      "outputs": [
        {
          "output_type": "stream",
          "name": "stdout",
          "text": [
            "+--------+-----+\n",
            "|    type|count|\n",
            "+--------+-----+\n",
            "|TRANSFER| 4097|\n",
            "|CASH_OUT| 4116|\n",
            "+--------+-----+\n",
            "\n"
          ]
        }
      ]
    },
    {
      "cell_type": "code",
      "source": [
        "# Here we are correcting the column isFlaggedFraud since it is returning invalid results for the records which are actual fraud\n",
        "df1 = df.withColumn(\"isFlaggedFraudNew\", F.when((F.col(\"IsFraud\")==\"1\"), \"1\").otherwise(\"0\"))\n",
        "df1.show(10)"
      ],
      "metadata": {
        "colab": {
          "base_uri": "https://localhost:8080/"
        },
        "id": "Pf6X3goUXEKx",
        "outputId": "f79990f8-36b5-49b8-d4d7-33e7a9ebbdc6"
      },
      "execution_count": 201,
      "outputs": [
        {
          "output_type": "stream",
          "name": "stdout",
          "text": [
            "+----+--------+--------+-----------+-------------+--------------+-----------+--------------+--------------+-------+--------------+-----------------+\n",
            "|step|    type|  amount|   nameOrig|oldbalanceOrg|newbalanceOrig|   nameDest|oldbalanceDest|newbalanceDest|isFraud|isFlaggedFraud|isFlaggedFraudNew|\n",
            "+----+--------+--------+-----------+-------------+--------------+-----------+--------------+--------------+-------+--------------+-----------------+\n",
            "|   1| PAYMENT| 9839.64|C1231006815|     170136.0|     160296.36|M1979787155|           0.0|           0.0|      0|             0|                0|\n",
            "|   1| PAYMENT| 1864.28|C1666544295|      21249.0|      19384.72|M2044282225|           0.0|           0.0|      0|             0|                0|\n",
            "|   1|TRANSFER|   181.0|C1305486145|        181.0|           0.0| C553264065|           0.0|           0.0|      1|             0|                1|\n",
            "|   1|CASH_OUT|   181.0| C840083671|        181.0|           0.0|  C38997010|       21182.0|           0.0|      1|             0|                1|\n",
            "|   1| PAYMENT|11668.14|C2048537720|      41554.0|      29885.86|M1230701703|           0.0|           0.0|      0|             0|                0|\n",
            "|   1| PAYMENT| 7817.71|  C90045638|      53860.0|      46042.29| M573487274|           0.0|           0.0|      0|             0|                0|\n",
            "|   1| PAYMENT| 7107.77| C154988899|     183195.0|     176087.23| M408069119|           0.0|           0.0|      0|             0|                0|\n",
            "|   1| PAYMENT| 7861.64|C1912850431|    176087.23|     168225.59| M633326333|           0.0|           0.0|      0|             0|                0|\n",
            "|   1| PAYMENT| 4024.36|C1265012928|       2671.0|           0.0|M1176932104|           0.0|           0.0|      0|             0|                0|\n",
            "|   1|   DEBIT| 5337.77| C712410124|      41720.0|      36382.23| C195600860|       41898.0|      40348.79|      0|             0|                0|\n",
            "+----+--------+--------+-----------+-------------+--------------+-----------+--------------+--------------+-------+--------------+-----------------+\n",
            "only showing top 10 rows\n",
            "\n"
          ]
        }
      ]
    },
    {
      "cell_type": "code",
      "source": [
        "#count of the records which are flagged as fraud and also originally fraud\n",
        "df1.filter((F.col(\"isFlaggedFraudNew\")==\"1\")&(F.col(\"isFraud\")==\"1\")).count()"
      ],
      "metadata": {
        "colab": {
          "base_uri": "https://localhost:8080/"
        },
        "id": "2fmunWMxXECa",
        "outputId": "976b715d-0ea2-4047-db1b-5a8b843f1518"
      },
      "execution_count": 202,
      "outputs": [
        {
          "output_type": "execute_result",
          "data": {
            "text/plain": [
              "8213"
            ]
          },
          "metadata": {},
          "execution_count": 202
        }
      ]
    },
    {
      "cell_type": "code",
      "source": [
        "#we retrieved the ids of customers and the type which are fraud\n",
        "df1=df1.select(\"amount\",\"type\",\"nameOrig\",\"isFraud\",\"isFlaggedFraudNew\").where(F.col(\"isfraud\")==\"1\")\n",
        "df1.show(5)"
      ],
      "metadata": {
        "colab": {
          "base_uri": "https://localhost:8080/"
        },
        "id": "XDG0nyJPXDaj",
        "outputId": "80df0664-201a-4367-caa9-515332f9cf03"
      },
      "execution_count": 203,
      "outputs": [
        {
          "output_type": "stream",
          "name": "stdout",
          "text": [
            "+-------+--------+-----------+-------+-----------------+\n",
            "| amount|    type|   nameOrig|isFraud|isFlaggedFraudNew|\n",
            "+-------+--------+-----------+-------+-----------------+\n",
            "|  181.0|TRANSFER|C1305486145|      1|                1|\n",
            "|  181.0|CASH_OUT| C840083671|      1|                1|\n",
            "| 2806.0|TRANSFER|C1420196421|      1|                1|\n",
            "| 2806.0|CASH_OUT|C2101527076|      1|                1|\n",
            "|20128.0|TRANSFER| C137533655|      1|                1|\n",
            "+-------+--------+-----------+-------+-----------------+\n",
            "only showing top 5 rows\n",
            "\n"
          ]
        }
      ]
    },
    {
      "cell_type": "code",
      "source": [
        "# since we corrected the logic of the flagged column, we can only select the necessary columns\n",
        "df2 = df1.select('type','amount','isFraud','isFlaggedFraudNew')\n",
        "df2.show(10)\n",
        "\n"
      ],
      "metadata": {
        "colab": {
          "base_uri": "https://localhost:8080/"
        },
        "id": "_6pJUtM3XC5B",
        "outputId": "53f5b0ca-3815-4191-ef42-ce5782fc78ae"
      },
      "execution_count": 204,
      "outputs": [
        {
          "output_type": "stream",
          "name": "stdout",
          "text": [
            "+--------+----------+-------+-----------------+\n",
            "|    type|    amount|isFraud|isFlaggedFraudNew|\n",
            "+--------+----------+-------+-----------------+\n",
            "|TRANSFER|     181.0|      1|                1|\n",
            "|CASH_OUT|     181.0|      1|                1|\n",
            "|TRANSFER|    2806.0|      1|                1|\n",
            "|CASH_OUT|    2806.0|      1|                1|\n",
            "|TRANSFER|   20128.0|      1|                1|\n",
            "|CASH_OUT|   20128.0|      1|                1|\n",
            "|CASH_OUT| 416001.33|      1|                1|\n",
            "|TRANSFER|1277212.77|      1|                1|\n",
            "|CASH_OUT|1277212.77|      1|                1|\n",
            "|TRANSFER|  35063.63|      1|                1|\n",
            "+--------+----------+-------+-----------------+\n",
            "only showing top 10 rows\n",
            "\n"
          ]
        }
      ]
    },
    {
      "cell_type": "code",
      "source": [
        "# since we corrected the logic of the flagged column, we can only select the necessary columns\n",
        "df2 = df1.select(\"type\",\"amount\",\"isFraud\",\"isFlaggedFraudNew\")\n",
        "df2.show(10)"
      ],
      "metadata": {
        "colab": {
          "base_uri": "https://localhost:8080/"
        },
        "id": "r4vHVd-DXC0U",
        "outputId": "8cd3ea2a-f9f4-4f15-b6b5-a90026b91bef"
      },
      "execution_count": 205,
      "outputs": [
        {
          "output_type": "stream",
          "name": "stdout",
          "text": [
            "+--------+----------+-------+-----------------+\n",
            "|    type|    amount|isFraud|isFlaggedFraudNew|\n",
            "+--------+----------+-------+-----------------+\n",
            "|TRANSFER|     181.0|      1|                1|\n",
            "|CASH_OUT|     181.0|      1|                1|\n",
            "|TRANSFER|    2806.0|      1|                1|\n",
            "|CASH_OUT|    2806.0|      1|                1|\n",
            "|TRANSFER|   20128.0|      1|                1|\n",
            "|CASH_OUT|   20128.0|      1|                1|\n",
            "|CASH_OUT| 416001.33|      1|                1|\n",
            "|TRANSFER|1277212.77|      1|                1|\n",
            "|CASH_OUT|1277212.77|      1|                1|\n",
            "|TRANSFER|  35063.63|      1|                1|\n",
            "+--------+----------+-------+-----------------+\n",
            "only showing top 10 rows\n",
            "\n"
          ]
        }
      ]
    },
    {
      "cell_type": "code",
      "source": [
        "#Getting the max amount of fraud happened\n",
        "df2.filter(F.col(\"isFraud\") == \"1\").agg(F.max(\"amount\")).show()"
      ],
      "metadata": {
        "colab": {
          "base_uri": "https://localhost:8080/"
        },
        "id": "36AuAJylXCxt",
        "outputId": "1c01e108-1356-4de9-eb95-482c24489072"
      },
      "execution_count": 206,
      "outputs": [
        {
          "output_type": "stream",
          "name": "stdout",
          "text": [
            "+-----------+\n",
            "|max(amount)|\n",
            "+-----------+\n",
            "|      1.0E7|\n",
            "+-----------+\n",
            "\n"
          ]
        }
      ]
    },
    {
      "cell_type": "code",
      "source": [
        "# The most fraud transactions were occured when the amount is 1.0E7 are in Transfer and Cash Out types coz one cannot transfer or wihtdraw such a huge amount\n",
        "df2.filter(F.col(\"amount\")==\"1.0E7\").show(5)"
      ],
      "metadata": {
        "colab": {
          "base_uri": "https://localhost:8080/"
        },
        "id": "XppOteA_XCvG",
        "outputId": "47ae3b4c-3754-447f-daba-ed6d67628af2"
      },
      "execution_count": 207,
      "outputs": [
        {
          "output_type": "stream",
          "name": "stdout",
          "text": [
            "+--------+------+-------+-----------------+\n",
            "|    type|amount|isFraud|isFlaggedFraudNew|\n",
            "+--------+------+-------+-----------------+\n",
            "|TRANSFER| 1.0E7|      1|                1|\n",
            "|CASH_OUT| 1.0E7|      1|                1|\n",
            "|TRANSFER| 1.0E7|      1|                1|\n",
            "|CASH_OUT| 1.0E7|      1|                1|\n",
            "|TRANSFER| 1.0E7|      1|                1|\n",
            "+--------+------+-------+-----------------+\n",
            "only showing top 5 rows\n",
            "\n"
          ]
        }
      ]
    },
    {
      "cell_type": "code",
      "source": [
        "result = df2.filter(F.col(\"isFraud\") == \"1\").agg(F.max(\"amount\").cast(\"double\").alias(\"max_amount\"))\n",
        "result.select(format_number(\"max_amount\", 0).alias(\"max_amount\")).show()\n"
      ],
      "metadata": {
        "colab": {
          "base_uri": "https://localhost:8080/"
        },
        "id": "aARvlCZBXCqc",
        "outputId": "dced9ae6-0225-4e14-f01b-2575243c2924"
      },
      "execution_count": 208,
      "outputs": [
        {
          "output_type": "stream",
          "name": "stdout",
          "text": [
            "+----------+\n",
            "|max_amount|\n",
            "+----------+\n",
            "|10,000,000|\n",
            "+----------+\n",
            "\n"
          ]
        }
      ]
    },
    {
      "cell_type": "code",
      "source": [
        "df = df.select(\"amount\",\"type\",\"oldbalanceOrg\",\"newbalanceOrig\",\"isFraud\")"
      ],
      "metadata": {
        "id": "T8kU1wsDuq2q"
      },
      "execution_count": 209,
      "outputs": []
    },
    {
      "cell_type": "code",
      "source": [
        "train, test = df.randomSplit([0.7, 0.3], seed=5)"
      ],
      "metadata": {
        "id": "Uf6PdiKLXCn6"
      },
      "execution_count": 210,
      "outputs": []
    },
    {
      "cell_type": "code",
      "source": [
        "print(f\"Train set length: {train.count()} records\")\n",
        "print(f\"Test set length: {test.count()} records\")"
      ],
      "metadata": {
        "colab": {
          "base_uri": "https://localhost:8080/"
        },
        "id": "4GMp4NgHXCli",
        "outputId": "00eb9998-931d-4b20-9084-52ea114f2449"
      },
      "execution_count": 211,
      "outputs": [
        {
          "output_type": "stream",
          "name": "stdout",
          "text": [
            "Train set length: 4453538 records\n",
            "Test set length: 1909082 records\n"
          ]
        }
      ]
    },
    {
      "cell_type": "code",
      "source": [
        "train.show(5,False)"
      ],
      "metadata": {
        "colab": {
          "base_uri": "https://localhost:8080/"
        },
        "id": "5nSkMc5MsOM3",
        "outputId": "b28dc61c-36c9-4862-bd9e-3fca3efd45b0"
      },
      "execution_count": 212,
      "outputs": [
        {
          "output_type": "stream",
          "name": "stdout",
          "text": [
            "+------+-------+-------------+--------------+-------+\n",
            "|amount|type   |oldbalanceOrg|newbalanceOrig|isFraud|\n",
            "+------+-------+-------------+--------------+-------+\n",
            "|0.06  |PAYMENT|0.0          |0.0           |0      |\n",
            "|0.1   |PAYMENT|0.0          |0.0           |0      |\n",
            "|0.2   |PAYMENT|573881.0     |573880.8      |0      |\n",
            "|0.21  |PAYMENT|0.0          |0.0           |0      |\n",
            "|0.24  |PAYMENT|14235.0      |14234.76      |0      |\n",
            "+------+-------+-------------+--------------+-------+\n",
            "only showing top 5 rows\n",
            "\n"
          ]
        }
      ]
    },
    {
      "cell_type": "code",
      "source": [
        "categoricalcols = [x for (x, dataType) in train.dtypes if dataType == \"string\"]\n",
        "numericalcols = [ x for (x, dataType) in train.dtypes if (dataType == \"double\")]"
      ],
      "metadata": {
        "id": "RZupW2SBXCis"
      },
      "execution_count": 213,
      "outputs": []
    },
    {
      "cell_type": "code",
      "source": [
        "train.groupBy(\"type\").count().show()"
      ],
      "metadata": {
        "colab": {
          "base_uri": "https://localhost:8080/"
        },
        "id": "btaGC_tpXCfO",
        "outputId": "b69570a7-65aa-4fc8-cd47-d6e1d6eebc19"
      },
      "execution_count": 214,
      "outputs": [
        {
          "output_type": "stream",
          "name": "stdout",
          "text": [
            "+--------+-------+\n",
            "|    type|  count|\n",
            "+--------+-------+\n",
            "|TRANSFER| 373178|\n",
            "| CASH_IN| 979783|\n",
            "|CASH_OUT|1566207|\n",
            "| PAYMENT|1505319|\n",
            "|   DEBIT|  29051|\n",
            "+--------+-------+\n",
            "\n"
          ]
        }
      ]
    },
    {
      "cell_type": "code",
      "source": [
        "indexes = [StringIndexer(inputCol=x, outputCol=x + \"_StringIndexer\", handleInvalid=\"skip\") for x in categoricalcols]"
      ],
      "metadata": {
        "id": "qcU-EToGc2Zp"
      },
      "execution_count": 215,
      "outputs": []
    },
    {
      "cell_type": "code",
      "source": [
        "indexfit=indexes[0].fit(df).transform(df)\n",
        "indexfit.show()"
      ],
      "metadata": {
        "colab": {
          "base_uri": "https://localhost:8080/"
        },
        "id": "neUocQxnc2Vv",
        "outputId": "1f61898d-6400-4086-e5a9-9401eb52cf8c"
      },
      "execution_count": 216,
      "outputs": [
        {
          "output_type": "stream",
          "name": "stdout",
          "text": [
            "+---------+--------+-------------+--------------+-------+------------------+\n",
            "|   amount|    type|oldbalanceOrg|newbalanceOrig|isFraud|type_StringIndexer|\n",
            "+---------+--------+-------------+--------------+-------+------------------+\n",
            "|  9839.64| PAYMENT|     170136.0|     160296.36|      0|               1.0|\n",
            "|  1864.28| PAYMENT|      21249.0|      19384.72|      0|               1.0|\n",
            "|    181.0|TRANSFER|        181.0|           0.0|      1|               3.0|\n",
            "|    181.0|CASH_OUT|        181.0|           0.0|      1|               0.0|\n",
            "| 11668.14| PAYMENT|      41554.0|      29885.86|      0|               1.0|\n",
            "|  7817.71| PAYMENT|      53860.0|      46042.29|      0|               1.0|\n",
            "|  7107.77| PAYMENT|     183195.0|     176087.23|      0|               1.0|\n",
            "|  7861.64| PAYMENT|    176087.23|     168225.59|      0|               1.0|\n",
            "|  4024.36| PAYMENT|       2671.0|           0.0|      0|               1.0|\n",
            "|  5337.77|   DEBIT|      41720.0|      36382.23|      0|               4.0|\n",
            "|  9644.94|   DEBIT|       4465.0|           0.0|      0|               4.0|\n",
            "|  3099.97| PAYMENT|      20771.0|      17671.03|      0|               1.0|\n",
            "|  2560.74| PAYMENT|       5070.0|       2509.26|      0|               1.0|\n",
            "| 11633.76| PAYMENT|      10127.0|           0.0|      0|               1.0|\n",
            "|  4098.78| PAYMENT|     503264.0|     499165.22|      0|               1.0|\n",
            "|229133.94|CASH_OUT|      15325.0|           0.0|      0|               0.0|\n",
            "|  1563.82| PAYMENT|        450.0|           0.0|      0|               1.0|\n",
            "|  1157.86| PAYMENT|      21156.0|      19998.14|      0|               1.0|\n",
            "|   671.64| PAYMENT|      15123.0|      14451.36|      0|               1.0|\n",
            "| 215310.3|TRANSFER|        705.0|           0.0|      0|               3.0|\n",
            "+---------+--------+-------------+--------------+-------+------------------+\n",
            "only showing top 20 rows\n",
            "\n"
          ]
        }
      ]
    },
    {
      "cell_type": "code",
      "source": [
        "one_hot_encoder = [\n",
        "    OneHotEncoder(\n",
        "        inputCols=[f\"{x}_StringIndexer\" for x in categoricalcols],\n",
        "        outputCols=[f\"{x}_OneHotEncoder\" for x in categoricalcols],\n",
        "    )\n",
        "]"
      ],
      "metadata": {
        "id": "E7FekhFic2RN"
      },
      "execution_count": 217,
      "outputs": []
    },
    {
      "cell_type": "code",
      "source": [
        "encoded=one_hot_encoder[0].fit(indexfit).transform(indexfit)\n",
        "encoded.show()"
      ],
      "metadata": {
        "colab": {
          "base_uri": "https://localhost:8080/"
        },
        "id": "uCmughJhc2O1",
        "outputId": "a0d1e624-ff6b-4545-8615-182132b38ec4"
      },
      "execution_count": 218,
      "outputs": [
        {
          "output_type": "stream",
          "name": "stdout",
          "text": [
            "+---------+--------+-------------+--------------+-------+------------------+------------------+\n",
            "|   amount|    type|oldbalanceOrg|newbalanceOrig|isFraud|type_StringIndexer|type_OneHotEncoder|\n",
            "+---------+--------+-------------+--------------+-------+------------------+------------------+\n",
            "|  9839.64| PAYMENT|     170136.0|     160296.36|      0|               1.0|     (4,[1],[1.0])|\n",
            "|  1864.28| PAYMENT|      21249.0|      19384.72|      0|               1.0|     (4,[1],[1.0])|\n",
            "|    181.0|TRANSFER|        181.0|           0.0|      1|               3.0|     (4,[3],[1.0])|\n",
            "|    181.0|CASH_OUT|        181.0|           0.0|      1|               0.0|     (4,[0],[1.0])|\n",
            "| 11668.14| PAYMENT|      41554.0|      29885.86|      0|               1.0|     (4,[1],[1.0])|\n",
            "|  7817.71| PAYMENT|      53860.0|      46042.29|      0|               1.0|     (4,[1],[1.0])|\n",
            "|  7107.77| PAYMENT|     183195.0|     176087.23|      0|               1.0|     (4,[1],[1.0])|\n",
            "|  7861.64| PAYMENT|    176087.23|     168225.59|      0|               1.0|     (4,[1],[1.0])|\n",
            "|  4024.36| PAYMENT|       2671.0|           0.0|      0|               1.0|     (4,[1],[1.0])|\n",
            "|  5337.77|   DEBIT|      41720.0|      36382.23|      0|               4.0|         (4,[],[])|\n",
            "|  9644.94|   DEBIT|       4465.0|           0.0|      0|               4.0|         (4,[],[])|\n",
            "|  3099.97| PAYMENT|      20771.0|      17671.03|      0|               1.0|     (4,[1],[1.0])|\n",
            "|  2560.74| PAYMENT|       5070.0|       2509.26|      0|               1.0|     (4,[1],[1.0])|\n",
            "| 11633.76| PAYMENT|      10127.0|           0.0|      0|               1.0|     (4,[1],[1.0])|\n",
            "|  4098.78| PAYMENT|     503264.0|     499165.22|      0|               1.0|     (4,[1],[1.0])|\n",
            "|229133.94|CASH_OUT|      15325.0|           0.0|      0|               0.0|     (4,[0],[1.0])|\n",
            "|  1563.82| PAYMENT|        450.0|           0.0|      0|               1.0|     (4,[1],[1.0])|\n",
            "|  1157.86| PAYMENT|      21156.0|      19998.14|      0|               1.0|     (4,[1],[1.0])|\n",
            "|   671.64| PAYMENT|      15123.0|      14451.36|      0|               1.0|     (4,[1],[1.0])|\n",
            "| 215310.3|TRANSFER|        705.0|           0.0|      0|               3.0|     (4,[3],[1.0])|\n",
            "+---------+--------+-------------+--------------+-------+------------------+------------------+\n",
            "only showing top 20 rows\n",
            "\n"
          ]
        }
      ]
    },
    {
      "cell_type": "code",
      "source": [
        "modelInput = [x for x in numericalcols]\n",
        "modelInput += [f\"{x}_OneHotEncoder\" for x in categoricalcols]\n",
        "modelInput"
      ],
      "metadata": {
        "colab": {
          "base_uri": "https://localhost:8080/"
        },
        "id": "LwMQJbJTc2He",
        "outputId": "e34b8afa-ada0-4fec-f7e8-fc436066bfce"
      },
      "execution_count": 219,
      "outputs": [
        {
          "output_type": "execute_result",
          "data": {
            "text/plain": [
              "['amount', 'oldbalanceOrg', 'newbalanceOrig', 'type_OneHotEncoder']"
            ]
          },
          "metadata": {},
          "execution_count": 219
        }
      ]
    },
    {
      "cell_type": "code",
      "source": [
        "#Combines the input value columns into a single vector\n",
        "vector_assembler = VectorAssembler(inputCols=modelInput, outputCol=\"VectorAssembler_output\")"
      ],
      "metadata": {
        "id": "zbPgRvKRc2E2"
      },
      "execution_count": 220,
      "outputs": []
    },
    {
      "cell_type": "code",
      "source": [
        "stages = []\n",
        "stages += indexes\n",
        "stages += one_hot_encoder\n",
        "stages += [vector_assembler]\n",
        "stages"
      ],
      "metadata": {
        "colab": {
          "base_uri": "https://localhost:8080/"
        },
        "id": "OgmqD8NRc1_O",
        "outputId": "271cebb7-bb57-4e5a-940d-013459d8cbc8"
      },
      "execution_count": 221,
      "outputs": [
        {
          "output_type": "execute_result",
          "data": {
            "text/plain": [
              "[StringIndexer_b66d6348c0de,\n",
              " OneHotEncoder_2142db70cead,\n",
              " VectorAssembler_731928acf933]"
            ]
          },
          "metadata": {},
          "execution_count": 221
        }
      ]
    },
    {
      "cell_type": "code",
      "source": [
        "# Here the above the 3 models are inserted into a pipeline so when we call this pipeline the 3 models are will run automatically\n",
        "from pyspark.ml import Pipeline\n",
        "\n",
        "pipeline = Pipeline().setStages(stages)\n",
        "model = pipeline.fit(train)\n",
        "\n",
        "pipeline_df = model.transform(train)"
      ],
      "metadata": {
        "id": "X0hRk-VAc17q"
      },
      "execution_count": 222,
      "outputs": []
    },
    {
      "cell_type": "code",
      "source": [
        "pipeline_df.select(\"type\", \"amount\", \"oldbalanceOrg\", \"newbalanceOrig\", \"VectorAssembler_output\").show(truncate=False)"
      ],
      "metadata": {
        "colab": {
          "base_uri": "https://localhost:8080/"
        },
        "id": "JO50bQY1gJSN",
        "outputId": "8105c8f6-2704-44c1-cbd1-66c3f463d48a"
      },
      "execution_count": 223,
      "outputs": [
        {
          "output_type": "stream",
          "name": "stdout",
          "text": [
            "+--------+------+-------------+--------------+--------------------------------------------+\n",
            "|type    |amount|oldbalanceOrg|newbalanceOrig|VectorAssembler_output                      |\n",
            "+--------+------+-------------+--------------+--------------------------------------------+\n",
            "|PAYMENT |0.06  |0.0          |0.0           |(7,[0,4],[0.06,1.0])                        |\n",
            "|PAYMENT |0.1   |0.0          |0.0           |(7,[0,4],[0.1,1.0])                         |\n",
            "|PAYMENT |0.2   |573881.0     |573880.8      |[0.2,573881.0,573880.8,0.0,1.0,0.0,0.0]     |\n",
            "|PAYMENT |0.21  |0.0          |0.0           |(7,[0,4],[0.21,1.0])                        |\n",
            "|PAYMENT |0.24  |14235.0      |14234.76      |[0.24,14235.0,14234.76,0.0,1.0,0.0,0.0]     |\n",
            "|PAYMENT |0.26  |242384.97    |242384.7      |[0.26,242384.97,242384.7,0.0,1.0,0.0,0.0]   |\n",
            "|PAYMENT |0.32  |0.0          |0.0           |(7,[0,4],[0.32,1.0])                        |\n",
            "|CASH_OUT|0.37  |25032.0      |25031.63      |[0.37,25032.0,25031.63,1.0,0.0,0.0,0.0]     |\n",
            "|PAYMENT |0.41  |40610.0      |40609.59      |[0.41,40610.0,40609.59,0.0,1.0,0.0,0.0]     |\n",
            "|PAYMENT |0.42  |0.0          |0.0           |(7,[0,4],[0.42,1.0])                        |\n",
            "|PAYMENT |0.5   |12774.0      |12773.5       |[0.5,12774.0,12773.5,0.0,1.0,0.0,0.0]       |\n",
            "|DEBIT   |0.55  |0.0          |0.0           |(7,[0],[0.55])                              |\n",
            "|PAYMENT |0.63  |351168.05    |351167.43     |[0.63,351168.05,351167.43,0.0,1.0,0.0,0.0]  |\n",
            "|PAYMENT |0.63  |1256931.38   |1256930.74    |[0.63,1256931.38,1256930.74,0.0,1.0,0.0,0.0]|\n",
            "|PAYMENT |0.68  |0.0          |0.0           |(7,[0,4],[0.68,1.0])                        |\n",
            "|PAYMENT |0.68  |2192.0       |2191.32       |[0.68,2192.0,2191.32,0.0,1.0,0.0,0.0]       |\n",
            "|PAYMENT |0.73  |0.0          |0.0           |(7,[0,4],[0.73,1.0])                        |\n",
            "|PAYMENT |0.74  |7110.0       |7109.26       |[0.74,7110.0,7109.26,0.0,1.0,0.0,0.0]       |\n",
            "|PAYMENT |0.76  |79.0         |78.24         |[0.76,79.0,78.24,0.0,1.0,0.0,0.0]           |\n",
            "|PAYMENT |0.78  |6041.0       |6040.22       |[0.78,6041.0,6040.22,0.0,1.0,0.0,0.0]       |\n",
            "+--------+------+-------------+--------------+--------------------------------------------+\n",
            "only showing top 20 rows\n",
            "\n"
          ]
        }
      ]
    },
    {
      "cell_type": "code",
      "source": [
        "pipeline_df.show()"
      ],
      "metadata": {
        "colab": {
          "base_uri": "https://localhost:8080/"
        },
        "id": "icy19FoAgJPm",
        "outputId": "465c1e3a-097e-4123-e416-8d15843c47b3"
      },
      "execution_count": 224,
      "outputs": [
        {
          "output_type": "stream",
          "name": "stdout",
          "text": [
            "+------+--------+-------------+--------------+-------+------------------+------------------+----------------------+\n",
            "|amount|    type|oldbalanceOrg|newbalanceOrig|isFraud|type_StringIndexer|type_OneHotEncoder|VectorAssembler_output|\n",
            "+------+--------+-------------+--------------+-------+------------------+------------------+----------------------+\n",
            "|  0.06| PAYMENT|          0.0|           0.0|      0|               1.0|     (4,[1],[1.0])|  (7,[0,4],[0.06,1.0])|\n",
            "|   0.1| PAYMENT|          0.0|           0.0|      0|               1.0|     (4,[1],[1.0])|   (7,[0,4],[0.1,1.0])|\n",
            "|   0.2| PAYMENT|     573881.0|      573880.8|      0|               1.0|     (4,[1],[1.0])|  [0.2,573881.0,573...|\n",
            "|  0.21| PAYMENT|          0.0|           0.0|      0|               1.0|     (4,[1],[1.0])|  (7,[0,4],[0.21,1.0])|\n",
            "|  0.24| PAYMENT|      14235.0|      14234.76|      0|               1.0|     (4,[1],[1.0])|  [0.24,14235.0,142...|\n",
            "|  0.26| PAYMENT|    242384.97|      242384.7|      0|               1.0|     (4,[1],[1.0])|  [0.26,242384.97,2...|\n",
            "|  0.32| PAYMENT|          0.0|           0.0|      0|               1.0|     (4,[1],[1.0])|  (7,[0,4],[0.32,1.0])|\n",
            "|  0.37|CASH_OUT|      25032.0|      25031.63|      0|               0.0|     (4,[0],[1.0])|  [0.37,25032.0,250...|\n",
            "|  0.41| PAYMENT|      40610.0|      40609.59|      0|               1.0|     (4,[1],[1.0])|  [0.41,40610.0,406...|\n",
            "|  0.42| PAYMENT|          0.0|           0.0|      0|               1.0|     (4,[1],[1.0])|  (7,[0,4],[0.42,1.0])|\n",
            "|   0.5| PAYMENT|      12774.0|       12773.5|      0|               1.0|     (4,[1],[1.0])|  [0.5,12774.0,1277...|\n",
            "|  0.55|   DEBIT|          0.0|           0.0|      0|               4.0|         (4,[],[])|        (7,[0],[0.55])|\n",
            "|  0.63| PAYMENT|    351168.05|     351167.43|      0|               1.0|     (4,[1],[1.0])|  [0.63,351168.05,3...|\n",
            "|  0.63| PAYMENT|   1256931.38|    1256930.74|      0|               1.0|     (4,[1],[1.0])|  [0.63,1256931.38,...|\n",
            "|  0.68| PAYMENT|          0.0|           0.0|      0|               1.0|     (4,[1],[1.0])|  (7,[0,4],[0.68,1.0])|\n",
            "|  0.68| PAYMENT|       2192.0|       2191.32|      0|               1.0|     (4,[1],[1.0])|  [0.68,2192.0,2191...|\n",
            "|  0.73| PAYMENT|          0.0|           0.0|      0|               1.0|     (4,[1],[1.0])|  (7,[0,4],[0.73,1.0])|\n",
            "|  0.74| PAYMENT|       7110.0|       7109.26|      0|               1.0|     (4,[1],[1.0])|  [0.74,7110.0,7109...|\n",
            "|  0.76| PAYMENT|         79.0|         78.24|      0|               1.0|     (4,[1],[1.0])|  [0.76,79.0,78.24,...|\n",
            "|  0.78| PAYMENT|       6041.0|       6040.22|      0|               1.0|     (4,[1],[1.0])|  [0.78,6041.0,6040...|\n",
            "+------+--------+-------------+--------------+-------+------------------+------------------+----------------------+\n",
            "only showing top 20 rows\n",
            "\n"
          ]
        }
      ]
    },
    {
      "cell_type": "code",
      "source": [
        "df_test=test.where(test.isFraud == 1)"
      ],
      "metadata": {
        "id": "6GyIQFfwgJM4"
      },
      "execution_count": 225,
      "outputs": []
    },
    {
      "cell_type": "code",
      "source": [
        "from pyspark.ml.classification import LogisticRegression"
      ],
      "metadata": {
        "id": "FQfwty3WgJJ8"
      },
      "execution_count": 226,
      "outputs": []
    },
    {
      "cell_type": "code",
      "source": [
        "data = pipeline_df.select(F.col(\"VectorAssembler_output\").alias(\"features\"),F.col(\"isFraud\").alias(\"label\"))"
      ],
      "metadata": {
        "id": "B6pXsMO4gJHP"
      },
      "execution_count": 227,
      "outputs": []
    },
    {
      "cell_type": "code",
      "source": [
        "data.show(5, truncate=False)"
      ],
      "metadata": {
        "colab": {
          "base_uri": "https://localhost:8080/"
        },
        "id": "_qEO4-AAgJDa",
        "outputId": "19526552-f327-4d65-f5db-081bb227d5d2"
      },
      "execution_count": 228,
      "outputs": [
        {
          "output_type": "stream",
          "name": "stdout",
          "text": [
            "+---------------------------------------+-----+\n",
            "|features                               |label|\n",
            "+---------------------------------------+-----+\n",
            "|(7,[0,4],[0.06,1.0])                   |0    |\n",
            "|(7,[0,4],[0.1,1.0])                    |0    |\n",
            "|[0.2,573881.0,573880.8,0.0,1.0,0.0,0.0]|0    |\n",
            "|(7,[0,4],[0.21,1.0])                   |0    |\n",
            "|[0.24,14235.0,14234.76,0.0,1.0,0.0,0.0]|0    |\n",
            "+---------------------------------------+-----+\n",
            "only showing top 5 rows\n",
            "\n"
          ]
        }
      ]
    },
    {
      "cell_type": "code",
      "source": [
        "model = LogisticRegression().fit(data)\n",
        "data=model.transform(data)\n",
        "data.show()"
      ],
      "metadata": {
        "colab": {
          "base_uri": "https://localhost:8080/"
        },
        "id": "tzwfKrHRgI4A",
        "outputId": "1fcce2f1-76d7-4934-cc68-c048d05240f2"
      },
      "execution_count": 229,
      "outputs": [
        {
          "output_type": "stream",
          "name": "stdout",
          "text": [
            "+--------------------+-----+--------------------+--------------------+----------+\n",
            "|            features|label|       rawPrediction|         probability|prediction|\n",
            "+--------------------+-----+--------------------+--------------------+----------+\n",
            "|(7,[0,4],[0.06,1.0])|    0|[168.455849824362...|           [1.0,0.0]|       0.0|\n",
            "| (7,[0,4],[0.1,1.0])|    0|[168.455850634217...|           [1.0,0.0]|       0.0|\n",
            "|[0.2,573881.0,573...|    0|[169.574438816169...|           [1.0,0.0]|       0.0|\n",
            "|(7,[0,4],[0.21,1.0])|    0|[168.455852861320...|           [1.0,0.0]|       0.0|\n",
            "|[0.24,14235.0,142...|    0|[168.483592902588...|           [1.0,0.0]|       0.0|\n",
            "|[0.26,242384.97,2...|    0|[168.928295655524...|           [1.0,0.0]|       0.0|\n",
            "|(7,[0,4],[0.32,1.0])|    0|[168.455855088424...|           [1.0,0.0]|       0.0|\n",
            "|[0.37,25032.0,250...|    0|[5.92479631814167...|[0.99733477049186...|       0.0|\n",
            "|[0.41,40610.0,406...|    0|[168.535000754647...|           [1.0,0.0]|       0.0|\n",
            "|(7,[0,4],[0.42,1.0])|    0|[168.455857113063...|           [1.0,0.0]|       0.0|\n",
            "|[0.5,12774.0,1277...|    0|[168.480742833887...|           [1.0,0.0]|       0.0|\n",
            "|      (7,[0],[0.55])|    0|[114.903633566348...|           [1.0,0.0]|       0.0|\n",
            "|[0.63,351168.05,3...|    0|[169.140329709650...|           [1.0,0.0]|       0.0|\n",
            "|[0.63,1256931.38,...|    0|[170.905816420048...|           [1.0,0.0]|       0.0|\n",
            "|(7,[0,4],[0.68,1.0])|    0|[168.455862377124...|           [1.0,0.0]|       0.0|\n",
            "|[0.68,2192.0,2191...|    0|[168.460115096770...|           [1.0,0.0]|       0.0|\n",
            "|(7,[0,4],[0.73,1.0])|    0|[168.455863389444...|           [1.0,0.0]|       0.0|\n",
            "|[0.74,7110.0,7109...|    0|[168.469700580222...|           [1.0,0.0]|       0.0|\n",
            "|[0.76,79.0,78.24,...|    0|[168.455995782153...|           [1.0,0.0]|       0.0|\n",
            "|[0.78,6041.0,6040...|    0|[168.467616558281...|           [1.0,0.0]|       0.0|\n",
            "+--------------------+-----+--------------------+--------------------+----------+\n",
            "only showing top 20 rows\n",
            "\n"
          ]
        }
      ]
    },
    {
      "cell_type": "code",
      "source": [
        "model = pipeline.fit(df_test)\n",
        "pipeline_df_test = model.transform(df_test)"
      ],
      "metadata": {
        "id": "3eJC1oyYgYSB"
      },
      "execution_count": 230,
      "outputs": []
    },
    {
      "cell_type": "code",
      "source": [
        "data_test = pipeline_df_test.select(F.col(\"VectorAssembler_output\").alias(\"features\"),F.col(\"isFraud\").alias(\"label\"))\n",
        "data_test.show(5,False)"
      ],
      "metadata": {
        "colab": {
          "base_uri": "https://localhost:8080/"
        },
        "id": "-sWThcuqgYPN",
        "outputId": "ba8035c6-14ab-4e9a-bfe1-382343e9424d"
      },
      "execution_count": 231,
      "outputs": [
        {
          "output_type": "stream",
          "name": "stdout",
          "text": [
            "+---------------------+-----+\n",
            "|features             |label|\n",
            "+---------------------+-----+\n",
            "|[119.0,119.0,0.0,1.0]|1    |\n",
            "|[164.0,164.0,0.0,1.0]|1    |\n",
            "|[170.0,170.0,0.0,1.0]|1    |\n",
            "|[408.0,408.0,0.0,0.0]|1    |\n",
            "|[636.0,636.0,0.0,1.0]|1    |\n",
            "+---------------------+-----+\n",
            "only showing top 5 rows\n",
            "\n"
          ]
        }
      ]
    },
    {
      "cell_type": "code",
      "source": [
        "model = LogisticRegression().fit(data_test)\n",
        "data=model.transform(data_test)\n",
        "data.show()"
      ],
      "metadata": {
        "colab": {
          "base_uri": "https://localhost:8080/"
        },
        "id": "9QsInDHDgYMS",
        "outputId": "92fb71a3-e700-4442-ceee-4d77b7ec5bd2"
      },
      "execution_count": 232,
      "outputs": [
        {
          "output_type": "stream",
          "name": "stdout",
          "text": [
            "+--------------------+-----+--------------------+-----------+----------+\n",
            "|            features|label|       rawPrediction|probability|prediction|\n",
            "+--------------------+-----+--------------------+-----------+----------+\n",
            "|[119.0,119.0,0.0,...|    1|[-Infinity,Infinity]|  [0.0,1.0]|       1.0|\n",
            "|[164.0,164.0,0.0,...|    1|[-Infinity,Infinity]|  [0.0,1.0]|       1.0|\n",
            "|[170.0,170.0,0.0,...|    1|[-Infinity,Infinity]|  [0.0,1.0]|       1.0|\n",
            "|[408.0,408.0,0.0,...|    1|[-Infinity,Infinity]|  [0.0,1.0]|       1.0|\n",
            "|[636.0,636.0,0.0,...|    1|[-Infinity,Infinity]|  [0.0,1.0]|       1.0|\n",
            "|[1055.0,1055.0,0....|    1|[-Infinity,Infinity]|  [0.0,1.0]|       1.0|\n",
            "|[1996.17,1996.17,...|    1|[-Infinity,Infinity]|  [0.0,1.0]|       1.0|\n",
            "|[2007.0,2007.0,0....|    1|[-Infinity,Infinity]|  [0.0,1.0]|       1.0|\n",
            "|[4530.71,4530.71,...|    1|[-Infinity,Infinity]|  [0.0,1.0]|       1.0|\n",
            "|[5624.02,5624.02,...|    1|[-Infinity,Infinity]|  [0.0,1.0]|       1.0|\n",
            "|[6339.42,6339.42,...|    1|[-Infinity,Infinity]|  [0.0,1.0]|       1.0|\n",
            "|[7887.75,7887.75,...|    1|[-Infinity,Infinity]|  [0.0,1.0]|       1.0|\n",
            "|[8055.06,8055.06,...|    1|[-Infinity,Infinity]|  [0.0,1.0]|       1.0|\n",
            "|[8383.17,8383.17,...|    1|[-Infinity,Infinity]|  [0.0,1.0]|       1.0|\n",
            "|[8677.0,8677.0,0....|    1|[-Infinity,Infinity]|  [0.0,1.0]|       1.0|\n",
            "|[9917.27,9917.27,...|    1|[-Infinity,Infinity]|  [0.0,1.0]|       1.0|\n",
            "|[10119.47,10119.4...|    1|[-Infinity,Infinity]|  [0.0,1.0]|       1.0|\n",
            "|[10224.0,10224.0,...|    1|[-Infinity,Infinity]|  [0.0,1.0]|       1.0|\n",
            "|[11385.0,11385.0,...|    1|[-Infinity,Infinity]|  [0.0,1.0]|       1.0|\n",
            "|[11653.98,11653.9...|    1|[-Infinity,Infinity]|  [0.0,1.0]|       1.0|\n",
            "+--------------------+-----+--------------------+-----------+----------+\n",
            "only showing top 20 rows\n",
            "\n"
          ]
        }
      ]
    },
    {
      "cell_type": "code",
      "source": [
        "model.summary.areaUnderROC"
      ],
      "metadata": {
        "colab": {
          "base_uri": "https://localhost:8080/"
        },
        "id": "Y_GV4-78gYGx",
        "outputId": "64993937-9c4d-4061-98dd-1da06b102d4e"
      },
      "execution_count": 234,
      "outputs": [
        {
          "output_type": "execute_result",
          "data": {
            "text/plain": [
              "1.0"
            ]
          },
          "metadata": {},
          "execution_count": 234
        }
      ]
    },
    {
      "cell_type": "code",
      "source": [
        "model.summary.pr.show()"
      ],
      "metadata": {
        "colab": {
          "base_uri": "https://localhost:8080/"
        },
        "id": "5SmgHnWHgYEE",
        "outputId": "d6a2daea-74b3-4687-c6b9-1297cd8f965d"
      },
      "execution_count": 235,
      "outputs": [
        {
          "output_type": "stream",
          "name": "stdout",
          "text": [
            "+------+---------+\n",
            "|recall|precision|\n",
            "+------+---------+\n",
            "|   0.0|      1.0|\n",
            "|   1.0|      1.0|\n",
            "+------+---------+\n",
            "\n"
          ]
        }
      ]
    },
    {
      "cell_type": "code",
      "source": [
        "# Reduced the features to 2 principal components\n",
        "pca = PCA(k=2, inputCol=\"features\", outputCol=\"pca_features\")\n",
        "model_pca = pca.fit(data_test)\n",
        "transformed_data_pca = model_pca.transform(data_test)\n",
        "transformed_data_pca.show(5, False)\n"
      ],
      "metadata": {
        "colab": {
          "base_uri": "https://localhost:8080/"
        },
        "id": "HEEbyBjrgXqA",
        "outputId": "ca785eac-3fc1-4312-e39a-3b186ee40705"
      },
      "execution_count": 236,
      "outputs": [
        {
          "output_type": "stream",
          "name": "stdout",
          "text": [
            "+---------------------+-----+---------------------------------------+\n",
            "|features             |label|pca_features                           |\n",
            "+---------------------+-----+---------------------------------------+\n",
            "|[119.0,119.0,0.0,1.0]|1    |[-151.83645873731683,72.57885174559738]|\n",
            "|[164.0,164.0,0.0,1.0]|1    |[-209.2536069968608,100.02463602714336]|\n",
            "|[170.0,170.0,0.0,1.0]|1    |[-216.9092267648,103.68407393134949]   |\n",
            "|[408.0,408.0,0.0,0.0]|1    |[-520.5821442198653,248.84177748601692]|\n",
            "|[636.0,636.0,0.0,1.0]|1    |[-811.4956954080774,387.90041782469234]|\n",
            "+---------------------+-----+---------------------------------------+\n",
            "only showing top 5 rows\n",
            "\n"
          ]
        }
      ]
    },
    {
      "cell_type": "code",
      "source": [
        "model_lr_pca = LogisticRegression().fit(transformed_data_pca)\n",
        "data_lr_pca = model_lr_pca.transform(transformed_data_pca)\n",
        "data_lr_pca.show()\n"
      ],
      "metadata": {
        "colab": {
          "base_uri": "https://localhost:8080/"
        },
        "id": "tMTDa1GSgXjM",
        "outputId": "2790ff51-3fee-4649-d034-d118c426d413"
      },
      "execution_count": 237,
      "outputs": [
        {
          "output_type": "stream",
          "name": "stdout",
          "text": [
            "+--------------------+-----+--------------------+--------------------+-----------+----------+\n",
            "|            features|label|        pca_features|       rawPrediction|probability|prediction|\n",
            "+--------------------+-----+--------------------+--------------------+-----------+----------+\n",
            "|[119.0,119.0,0.0,...|    1|[-151.83645873731...|[-Infinity,Infinity]|  [0.0,1.0]|       1.0|\n",
            "|[164.0,164.0,0.0,...|    1|[-209.25360699686...|[-Infinity,Infinity]|  [0.0,1.0]|       1.0|\n",
            "|[170.0,170.0,0.0,...|    1|[-216.9092267648,...|[-Infinity,Infinity]|  [0.0,1.0]|       1.0|\n",
            "|[408.0,408.0,0.0,...|    1|[-520.58214421986...|[-Infinity,Infinity]|  [0.0,1.0]|       1.0|\n",
            "|[636.0,636.0,0.0,...|    1|[-811.49569540807...|[-Infinity,Infinity]|  [0.0,1.0]|       1.0|\n",
            "|[1055.0,1055.0,0....|    1|[-1346.1131425358...|[-Infinity,Infinity]|  [0.0,1.0]|       1.0|\n",
            "|[1996.17,1996.17,...|    1|[-2546.9864186945...|[-Infinity,Infinity]|  [0.0,1.0]|       1.0|\n",
            "|[2007.0,2007.0,0....|    1|[-2560.8048123756...|[-Infinity,Infinity]|  [0.0,1.0]|       1.0|\n",
            "|[4530.71,4530.71,...|    1|[-5780.8988398064...|[-Infinity,Infinity]|  [0.0,1.0]|       1.0|\n",
            "|[5624.02,5624.02,...|    1|[-7175.8931145475...|[-Infinity,Infinity]|  [0.0,1.0]|       1.0|\n",
            "|[6339.42,6339.42,...|    1|[-8088.6981782180...|[-Infinity,Infinity]|  [0.0,1.0]|       1.0|\n",
            "|[7887.75,7887.75,...|    1|[-10064.269137433...|[-Infinity,Infinity]|  [0.0,1.0]|       1.0|\n",
            "|[8055.06,8055.06,...|    1|[-10277.746094662...|[-Infinity,Infinity]|  [0.0,1.0]|       1.0|\n",
            "|[8383.17,8383.17,...|    1|[-10696.393661665...|[-Infinity,Infinity]|  [0.0,1.0]|       1.0|\n",
            "|[8677.0,8677.0,0....|    1|[-11071.302121074...|[-Infinity,Infinity]|  [0.0,1.0]|       1.0|\n",
            "|[9917.27,9917.27,...|    1|[-12653.808042671...|[-Infinity,Infinity]|  [0.0,1.0]|       1.0|\n",
            "|[10119.47,10119.4...|    1|[-12911.802428851...|[-Infinity,Infinity]|  [0.0,1.0]|       1.0|\n",
            "|[10224.0,10224.0,...|    1|[-13045.176084568...|[-Infinity,Infinity]|  [0.0,1.0]|       1.0|\n",
            "|[11385.0,11385.0,...|    1|[-14526.538509664...|[-Infinity,Infinity]|  [0.0,1.0]|       1.0|\n",
            "|[11653.98,11653.9...|    1|[-14869.739943861...|[-Infinity,Infinity]|  [0.0,1.0]|       1.0|\n",
            "+--------------------+-----+--------------------+--------------------+-----------+----------+\n",
            "only showing top 20 rows\n",
            "\n"
          ]
        }
      ]
    },
    {
      "cell_type": "code",
      "source": [
        "evaluator = BinaryClassificationEvaluator(rawPredictionCol=\"rawPrediction\", labelCol=\"label\", metricName=\"areaUnderROC\")\n",
        "area_under_roc = evaluator.evaluate(data_lr_pca)\n",
        "print(\"Area Under ROC for PCA-Transformed Data:\", area_under_roc)\n"
      ],
      "metadata": {
        "colab": {
          "base_uri": "https://localhost:8080/"
        },
        "id": "JZfgBLn6gXft",
        "outputId": "781cf28b-4f8c-4f61-8368-cc038291f490"
      },
      "execution_count": 238,
      "outputs": [
        {
          "output_type": "stream",
          "name": "stdout",
          "text": [
            "Area Under ROC for PCA-Transformed Data: 1.0\n"
          ]
        }
      ]
    }
  ]
}